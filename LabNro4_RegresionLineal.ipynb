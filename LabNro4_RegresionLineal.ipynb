{
  "nbformat": 4,
  "nbformat_minor": 0,
  "metadata": {
    "colab": {
      "name": "LabNro3_RegresionLineal.ipynb",
      "provenance": [],
      "collapsed_sections": [],
      "authorship_tag": "ABX9TyPefQbtwS3I/Y9Ggu5RFAXL",
      "include_colab_link": true
    },
    "kernelspec": {
      "name": "python3",
      "display_name": "Python 3"
    },
    "language_info": {
      "name": "python"
    }
  },
  "cells": [
    {
      "cell_type": "markdown",
      "metadata": {
        "id": "view-in-github",
        "colab_type": "text"
      },
      "source": [
        "<a href=\"https://colab.research.google.com/github/YomarPeralta/LaboratorioNro4_RegresionLineal/blob/main/LabNro4_RegresionLineal.ipynb\" target=\"_parent\"><img src=\"https://colab.research.google.com/assets/colab-badge.svg\" alt=\"Open In Colab\"/></a>"
      ]
    },
    {
      "cell_type": "code",
      "execution_count": 5,
      "metadata": {
        "id": "kam3IdI1egjE"
      },
      "outputs": [],
      "source": [
        "'''Importacion de los modulos necesarios para trabajar con el algoritmo Regresion Lineal'''\n",
        "%matplotlib notebook "
      ]
    },
    {
      "cell_type": "code",
      "source": [
        "'''Importacion de la libreria matplot y numpy '''\n",
        "import matplotlib.pyplot as plt\n",
        "from sklearn.datasets import load_wine\n",
        "from scipy import stats\n",
        "import numpy as np\n",
        "from sklearn import metrics \n",
        "import os\n"
      ],
      "metadata": {
        "id": "xB_ANVkLIThc"
      },
      "execution_count": 6,
      "outputs": []
    },
    {
      "cell_type": "code",
      "source": [
        "'''Importacion del paquete para cargar los datasets'''\n",
        "from sklearn import datasets"
      ],
      "metadata": {
        "id": "i15TiA7KItsl"
      },
      "execution_count": 7,
      "outputs": []
    },
    {
      "cell_type": "code",
      "source": [
        "'''Carga del dataset a utilizar'''\n",
        "wine = datasets.load_wine()\n"
      ],
      "metadata": {
        "id": "tzcIEaTDJG0m"
      },
      "execution_count": 8,
      "outputs": []
    },
    {
      "cell_type": "code",
      "source": [
        "'''inicializador randomico '''\n",
        "rng = np.random.default_rng()\n"
      ],
      "metadata": {
        "id": "qnoXv5vrQNz2"
      },
      "execution_count": 9,
      "outputs": []
    },
    {
      "cell_type": "code",
      "source": [
        "'''generador de los datos necesarios para alimentar el modelo '''\n",
        "x= rng.random (10)\n",
        "y = 1.6*x + rng.random(10)\n",
        "y"
      ],
      "metadata": {
        "colab": {
          "base_uri": "https://localhost:8080/"
        },
        "id": "d3V9WjJMQfyG",
        "outputId": "8150191c-5b4c-4704-f849-067832ff1803"
      },
      "execution_count": 10,
      "outputs": [
        {
          "output_type": "execute_result",
          "data": {
            "text/plain": [
              "array([1.96438269, 1.70014656, 0.78967396, 0.43017435, 1.3910243 ,\n",
              "       1.07535047, 2.21581241, 0.50246183, 0.49700781, 1.64840849])"
            ]
          },
          "metadata": {},
          "execution_count": 10
        }
      ]
    },
    {
      "cell_type": "code",
      "source": [
        "'''calculo de la regresion lineal para sus minimos cuadrados para los dos conjuntos''' \n",
        "slope, intercept, r, p, std_err = stats.linregress(x, y)"
      ],
      "metadata": {
        "id": "O037tpxoQEZX"
      },
      "execution_count": 39,
      "outputs": []
    },
    {
      "cell_type": "code",
      "source": [
        "'''Uso de la funcion auxiliar que implementa la pendiente e interseccion para su nuevo valor'''\n",
        "def fitted_value(x):\n",
        "  return slope * x + intercept\n"
      ],
      "metadata": {
        "id": "-OGyZ7mRSYoB"
      },
      "execution_count": 48,
      "outputs": []
    },
    {
      "cell_type": "code",
      "source": [
        "'''Calculo de los nuevos valores ajustados para \"y\" con uso de una funcion auxiliar'''\n",
        "new_values = list(map(fitted_value, x))"
      ],
      "metadata": {
        "id": "7_LB0DIeUD85"
      },
      "execution_count": 49,
      "outputs": []
    },
    {
      "cell_type": "code",
      "source": [
        "'''visualizacion del algoritmo '''\n",
        "plt.plot(x, y, 'o', label='original data')\n",
        "plt.plot(x, new_values, 'r', label='fitted line')\n",
        "plt.legend()"
      ],
      "metadata": {
        "colab": {
          "base_uri": "https://localhost:8080/",
          "height": 282
        },
        "id": "SzA_emWpUuV5",
        "outputId": "6a591301-b848-4a82-a481-2ccd1918dabd"
      },
      "execution_count": 50,
      "outputs": [
        {
          "output_type": "execute_result",
          "data": {
            "text/plain": [
              "<matplotlib.legend.Legend at 0x7f6873bc6b10>"
            ]
          },
          "metadata": {},
          "execution_count": 50
        },
        {
          "output_type": "display_data",
          "data": {
            "text/plain": [
              "<Figure size 432x288 with 1 Axes>"
            ],
            "image/png": "[encoded data removed]"
          },
          "metadata": {
            "needs_background": "light"
          }
        }
      ]
    }
  ]
}